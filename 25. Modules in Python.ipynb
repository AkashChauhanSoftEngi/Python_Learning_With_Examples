{
 "cells": [
  {
   "cell_type": "markdown",
   "metadata": {
    "code_folding": []
   },
   "source": [
    "### Modules in Python"
   ]
  },
  {
   "cell_type": "code",
   "execution_count": 52,
   "metadata": {},
   "outputs": [],
   "source": [
    "def interest(p,r,t):\n",
    "    return (p*r*t/100)"
   ]
  },
  {
   "cell_type": "code",
   "execution_count": 53,
   "metadata": {},
   "outputs": [
    {
     "data": {
      "text/plain": [
       "120.0"
      ]
     },
     "execution_count": 53,
     "metadata": {},
     "output_type": "execute_result"
    }
   ],
   "source": [
    "interest(1000,12,1)"
   ]
  },
  {
   "cell_type": "code",
   "execution_count": 54,
   "metadata": {
    "scrolled": true
   },
   "outputs": [],
   "source": [
    "# Aready added this mylib.py file inside PythonWork folder\n",
    "\n",
    "import PythonWork.mylib as bar"
   ]
  },
  {
   "cell_type": "code",
   "execution_count": 55,
   "metadata": {},
   "outputs": [
    {
     "data": {
      "text/plain": [
       "120.0"
      ]
     },
     "execution_count": 55,
     "metadata": {},
     "output_type": "execute_result"
    }
   ],
   "source": [
    "bar.interest(1000,12,1)"
   ]
  },
  {
   "cell_type": "code",
   "execution_count": 56,
   "metadata": {},
   "outputs": [
    {
     "name": "stdout",
     "output_type": "stream",
     "text": [
      "Help on module PythonWork.mylib in PythonWork:\n",
      "\n",
      "NAME\n",
      "    PythonWork.mylib - # mylib File\n",
      "\n",
      "FUNCTIONS\n",
      "    interest(p, r, t)\n",
      "\n",
      "FILE\n",
      "    /home/akashchauhansejapan1652/PythonWork/mylib.py\n",
      "\n",
      "\n"
     ]
    }
   ],
   "source": [
    "help(bar)"
   ]
  },
  {
   "cell_type": "code",
   "execution_count": 57,
   "metadata": {},
   "outputs": [
    {
     "name": "stderr",
     "output_type": "stream",
     "text": [
      "ERROR:root:File `'bar.py'` not found.\n"
     ]
    }
   ],
   "source": [
    "%run bar"
   ]
  },
  {
   "cell_type": "code",
   "execution_count": 58,
   "metadata": {},
   "outputs": [
    {
     "name": "stderr",
     "output_type": "stream",
     "text": [
      "ERROR:root:File `'mylib.py'` not found.\n"
     ]
    }
   ],
   "source": [
    "%run mylib\n"
   ]
  },
  {
   "cell_type": "code",
   "execution_count": 62,
   "metadata": {},
   "outputs": [
    {
     "name": "stdout",
     "output_type": "stream",
     "text": [
      "This is main method\n"
     ]
    }
   ],
   "source": [
    "# You can directly run some code in mylib file\n",
    "\n",
    "%run PythonWork/mylib"
   ]
  },
  {
   "cell_type": "code",
   "execution_count": 63,
   "metadata": {},
   "outputs": [
    {
     "data": {
      "text/plain": [
       "['/usr/local/anaconda/lib/python36.zip',\n",
       " '/usr/local/anaconda/lib/python3.6',\n",
       " '/usr/local/anaconda/lib/python3.6/lib-dynload',\n",
       " '',\n",
       " '/usr/local/anaconda/lib/python3.6/site-packages',\n",
       " '/usr/local/anaconda/lib/python3.6/site-packages/IPython/extensions',\n",
       " '/home/akashchauhansejapan1652/.ipython']"
      ]
     },
     "execution_count": 63,
     "metadata": {},
     "output_type": "execute_result"
    }
   ],
   "source": [
    "sys.path"
   ]
  },
  {
   "cell_type": "code",
   "execution_count": 64,
   "metadata": {},
   "outputs": [
    {
     "ename": "NameError",
     "evalue": "name 'mylib' is not defined",
     "output_type": "error",
     "traceback": [
      "\u001b[0;31m---------------------------------------------------------------------------\u001b[0m",
      "\u001b[0;31mNameError\u001b[0m                                 Traceback (most recent call last)",
      "\u001b[0;32m<ipython-input-64-8e6c0c3d49a1>\u001b[0m in \u001b[0;36m<module>\u001b[0;34m\u001b[0m\n\u001b[0;32m----> 1\u001b[0;31m \u001b[0mhelp\u001b[0m\u001b[0;34m(\u001b[0m\u001b[0mmylib\u001b[0m\u001b[0;34m)\u001b[0m\u001b[0;34m\u001b[0m\u001b[0;34m\u001b[0m\u001b[0m\n\u001b[0m",
      "\u001b[0;31mNameError\u001b[0m: name 'mylib' is not defined"
     ]
    }
   ],
   "source": [
    "help(mylib)"
   ]
  },
  {
   "cell_type": "code",
   "execution_count": 81,
   "metadata": {
    "scrolled": true
   },
   "outputs": [
    {
     "name": "stdout",
     "output_type": "stream",
     "text": [
      "Help on module PythonWork.mylib in PythonWork:\n",
      "\n",
      "NAME\n",
      "    PythonWork.mylib - # mylib File\n",
      "\n",
      "FUNCTIONS\n",
      "    interest(p, r, t)\n",
      "\n",
      "FILE\n",
      "    /home/akashchauhansejapan1652/PythonWork/mylib.py\n",
      "\n",
      "\n"
     ]
    }
   ],
   "source": [
    "help(PythonWork.mylib)"
   ]
  },
  {
   "cell_type": "code",
   "execution_count": 75,
   "metadata": {},
   "outputs": [],
   "source": [
    "sys.path += [\"/home/akashchauhansejapan1652/PythonWork\"]"
   ]
  },
  {
   "cell_type": "code",
   "execution_count": 76,
   "metadata": {},
   "outputs": [
    {
     "ename": "NameError",
     "evalue": "name 'mylib' is not defined",
     "output_type": "error",
     "traceback": [
      "\u001b[0;31m---------------------------------------------------------------------------\u001b[0m",
      "\u001b[0;31mNameError\u001b[0m                                 Traceback (most recent call last)",
      "\u001b[0;32m<ipython-input-76-8e6c0c3d49a1>\u001b[0m in \u001b[0;36m<module>\u001b[0;34m\u001b[0m\n\u001b[0;32m----> 1\u001b[0;31m \u001b[0mhelp\u001b[0m\u001b[0;34m(\u001b[0m\u001b[0mmylib\u001b[0m\u001b[0;34m)\u001b[0m\u001b[0;34m\u001b[0m\u001b[0;34m\u001b[0m\u001b[0m\n\u001b[0m",
      "\u001b[0;31mNameError\u001b[0m: name 'mylib' is not defined"
     ]
    }
   ],
   "source": [
    "help(mylib)"
   ]
  },
  {
   "cell_type": "code",
   "execution_count": 82,
   "metadata": {},
   "outputs": [
    {
     "data": {
      "text/plain": [
       "['/usr/local/anaconda/lib/python36.zip',\n",
       " '/usr/local/anaconda/lib/python3.6',\n",
       " '/usr/local/anaconda/lib/python3.6/lib-dynload',\n",
       " '',\n",
       " '/usr/local/anaconda/lib/python3.6/site-packages',\n",
       " '/usr/local/anaconda/lib/python3.6/site-packages/IPython/extensions',\n",
       " '/home/akashchauhansejapan1652/.ipython',\n",
       " '/home/akashchauhansejapan1652/PythonWork/mylib.py',\n",
       " '/home/akashchauhansejapan1652/PythonWork']"
      ]
     },
     "execution_count": 82,
     "metadata": {},
     "output_type": "execute_result"
    }
   ],
   "source": [
    "sys.path"
   ]
  },
  {
   "cell_type": "code",
   "execution_count": 84,
   "metadata": {},
   "outputs": [],
   "source": [
    "import mylib"
   ]
  },
  {
   "cell_type": "code",
   "execution_count": 85,
   "metadata": {},
   "outputs": [
    {
     "name": "stdout",
     "output_type": "stream",
     "text": [
      "Help on module mylib:\n",
      "\n",
      "NAME\n",
      "    mylib - # mylib File\n",
      "\n",
      "FUNCTIONS\n",
      "    interest(p, r, t)\n",
      "\n",
      "FILE\n",
      "    /home/akashchauhansejapan1652/PythonWork/mylib.py\n",
      "\n",
      "\n"
     ]
    }
   ],
   "source": [
    "help(mylib)"
   ]
  },
  {
   "cell_type": "code",
   "execution_count": 88,
   "metadata": {},
   "outputs": [
    {
     "name": "stdout",
     "output_type": "stream",
     "text": [
      "223 ns ± 2.56 ns per loop (mean ± std. dev. of 7 runs, 1000000 loops each)\n"
     ]
    }
   ],
   "source": [
    "# How much time it took to execute it\n",
    "%timeit mylib.interest(1000,10,1)"
   ]
  },
  {
   "cell_type": "code",
   "execution_count": null,
   "metadata": {},
   "outputs": [],
   "source": []
  }
 ],
 "metadata": {
  "kernelspec": {
   "display_name": "Python 3",
   "language": "python",
   "name": "python3"
  },
  "language_info": {
   "codemirror_mode": {
    "name": "ipython",
    "version": 3
   },
   "file_extension": ".py",
   "mimetype": "text/x-python",
   "name": "python",
   "nbconvert_exporter": "python",
   "pygments_lexer": "ipython3",
   "version": "3.6.8"
  },
  "toc": {
   "base_numbering": 1,
   "nav_menu": {},
   "number_sections": true,
   "sideBar": true,
   "skip_h1_title": false,
   "title_cell": "Table of Contents",
   "title_sidebar": "Contents",
   "toc_cell": false,
   "toc_position": {},
   "toc_section_display": true,
   "toc_window_display": false
  }
 },
 "nbformat": 4,
 "nbformat_minor": 2
}
