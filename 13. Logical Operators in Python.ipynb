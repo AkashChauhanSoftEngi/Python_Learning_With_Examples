{
 "cells": [
  {
   "cell_type": "markdown",
   "metadata": {
    "code_folding": []
   },
   "source": [
    "### Logical Operators\n"
   ]
  },
  {
   "cell_type": "code",
   "execution_count": 1,
   "metadata": {},
   "outputs": [],
   "source": [
    "def is_online(x1,x2,x):\n",
    "    \n",
    "    if x>=x1 and x<=x2:\n",
    "        return True\n",
    "    \n",
    "    if x>=x2 and x<=x1:\n",
    "        return True\n",
    "    \n",
    "    else:\n",
    "        return False\n",
    "    "
   ]
  },
  {
   "cell_type": "code",
   "execution_count": 2,
   "metadata": {},
   "outputs": [
    {
     "data": {
      "text/plain": [
       "True"
      ]
     },
     "execution_count": 2,
     "metadata": {},
     "output_type": "execute_result"
    }
   ],
   "source": [
    "is_online(10, 20, 30)\n",
    "is_online(10, 20, 20)\n",
    "is_online(10, 20, -10)\n",
    "is_online(-4, -5, -4.5)"
   ]
  },
  {
   "cell_type": "code",
   "execution_count": 1,
   "metadata": {},
   "outputs": [
    {
     "name": "stdout",
     "output_type": "stream",
     "text": [
      "Either of the number is greater than 0\n",
      "No number is greater than 0\n"
     ]
    }
   ],
   "source": [
    "a = 10\n",
    "b = -10\n",
    "c = 0\n",
    "  \n",
    "if a > 0 or b > 0:\n",
    "    print(\"Either of the number is greater than 0\")\n",
    "else:\n",
    "    print(\"No number is greater than 0\")\n",
    "  \n",
    "if b > 0 or c > 0:\n",
    "    print(\"Either of the number is greater than 0\")\n",
    "else:\n",
    "    print(\"No number is greater than 0\")"
   ]
  },
  {
   "cell_type": "code",
   "execution_count": 3,
   "metadata": {},
   "outputs": [
    {
     "name": "stdout",
     "output_type": "stream",
     "text": [
      "Atleast one number has boolean value as True\n"
     ]
    }
   ],
   "source": [
    "# If the first expression evaluated to be True while using or operator, then the further expressions are not evaluated.\n",
    "\n",
    "a = 10\n",
    "b = 12\n",
    "c = 0\n",
    "  \n",
    "if a or b or c:\n",
    "    print(\"Atleast one number has boolean value as True\")\n",
    "else:\n",
    "    print(\"All the numbers have boolean value as False\")"
   ]
  },
  {
   "cell_type": "code",
   "execution_count": 4,
   "metadata": {},
   "outputs": [
    {
     "name": "stdout",
     "output_type": "stream",
     "text": [
      "10 is divisible by either 3 or 5\n"
     ]
    }
   ],
   "source": [
    "a = 10\n",
    "  \n",
    "if not a:\n",
    "    print(\"Boolean value of a is True\")\n",
    "  \n",
    "if not (a%3 == 0 or a%5 == 0):\n",
    "    print(\"10 is not divisible by either 3 or 5\")\n",
    "else:\n",
    "    print(\"10 is divisible by either 3 or 5\")"
   ]
  },
  {
   "cell_type": "code",
   "execution_count": null,
   "metadata": {},
   "outputs": [],
   "source": []
  }
 ],
 "metadata": {
  "kernelspec": {
   "display_name": "Python 3",
   "language": "python",
   "name": "python3"
  },
  "language_info": {
   "codemirror_mode": {
    "name": "ipython",
    "version": 3
   },
   "file_extension": ".py",
   "mimetype": "text/x-python",
   "name": "python",
   "nbconvert_exporter": "python",
   "pygments_lexer": "ipython3",
   "version": "3.6.8"
  },
  "toc": {
   "base_numbering": 1,
   "nav_menu": {},
   "number_sections": true,
   "sideBar": true,
   "skip_h1_title": false,
   "title_cell": "Table of Contents",
   "title_sidebar": "Contents",
   "toc_cell": false,
   "toc_position": {},
   "toc_section_display": true,
   "toc_window_display": false
  }
 },
 "nbformat": 4,
 "nbformat_minor": 2
}
