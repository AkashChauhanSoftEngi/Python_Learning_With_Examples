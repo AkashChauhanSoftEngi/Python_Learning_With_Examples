{
 "cells": [
  {
   "cell_type": "markdown",
   "metadata": {
    "code_folding": []
   },
   "source": [
    "### Math Functions"
   ]
  },
  {
   "cell_type": "code",
   "execution_count": 53,
   "metadata": {},
   "outputs": [
    {
     "name": "stdout",
     "output_type": "stream",
     "text": [
      "7.548509786706248\n",
      "0.4383711467890774\n",
      "6.907755278982137\n"
     ]
    }
   ],
   "source": [
    "# Math Functions\n",
    "\n",
    "import math\n",
    "\n",
    "math.log10(1000)\n",
    "\n",
    "math.cos(0)\n",
    "\n",
    "math.sqrt(4)\n",
    "\n",
    "square_root = math.sqrt(56.98)\n",
    "\n",
    "print(square_root)\n",
    "\n",
    "sin_rad = math.radians(26)\n",
    "\n",
    "sin_degree = math.sin(sin_rad)\n",
    "\n",
    "print(sin_degree)\n",
    "\n",
    "# Printing the log base e of 1000\n",
    "log_e = math.log(1000)\n",
    "\n",
    "print(log_e)"
   ]
  },
  {
   "cell_type": "code",
   "execution_count": null,
   "metadata": {},
   "outputs": [],
   "source": []
  }
 ],
 "metadata": {
  "kernelspec": {
   "display_name": "Python 3",
   "language": "python",
   "name": "python3"
  },
  "language_info": {
   "codemirror_mode": {
    "name": "ipython",
    "version": 3
   },
   "file_extension": ".py",
   "mimetype": "text/x-python",
   "name": "python",
   "nbconvert_exporter": "python",
   "pygments_lexer": "ipython3",
   "version": "3.6.8"
  },
  "toc": {
   "base_numbering": 1,
   "nav_menu": {},
   "number_sections": true,
   "sideBar": true,
   "skip_h1_title": false,
   "title_cell": "Table of Contents",
   "title_sidebar": "Contents",
   "toc_cell": false,
   "toc_position": {},
   "toc_section_display": true,
   "toc_window_display": false
  }
 },
 "nbformat": 4,
 "nbformat_minor": 2
}
